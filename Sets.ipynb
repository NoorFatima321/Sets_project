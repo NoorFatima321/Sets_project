{
 "cells": [
  {
   "cell_type": "code",
   "execution_count": 15,
   "id": "02d52d1b-e1c7-4bf8-b5f8-fc9f51abde4c",
   "metadata": {},
   "outputs": [
    {
     "name": "stdout",
     "output_type": "stream",
     "text": [
      "{1, 3, 5, 7, 9, '1', '2'}\n"
     ]
    }
   ],
   "source": [
    "sets={1,3,5,7,9}\n",
    "sets.update(\"12\",[3])\n",
    "print(sets)"
   ]
  },
  {
   "cell_type": "code",
   "execution_count": null,
   "id": "2d4cff3f-0d18-4cc0-8cf3-145ae01d85a7",
   "metadata": {},
   "outputs": [],
   "source": []
  }
 ],
 "metadata": {
  "kernelspec": {
   "display_name": "Python 3 (ipykernel)",
   "language": "python",
   "name": "python3"
  },
  "language_info": {
   "codemirror_mode": {
    "name": "ipython",
    "version": 3
   },
   "file_extension": ".py",
   "mimetype": "text/x-python",
   "name": "python",
   "nbconvert_exporter": "python",
   "pygments_lexer": "ipython3",
   "version": "3.12.4"
  }
 },
 "nbformat": 4,
 "nbformat_minor": 5
}
